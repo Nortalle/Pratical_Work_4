{
 "cells": [
  {
   "cell_type": "code",
   "execution_count": 1,
   "metadata": {},
   "outputs": [],
   "source": [
    "from pyevolve import G1DBinaryString\n",
    "from pyevolve import GSimpleGA\n",
    "from pyevolve import Selectors\n",
    "from pyevolve import Statistics\n",
    "from pyevolve import G1DList\n",
    "from pyevolve import G1DList\n",
    "from pyevolve import GSimpleGA\n",
    "from pyevolve import GAllele\n",
    "from pyevolve import Mutators\n",
    "from pyevolve import Initializators\n",
    "from pyevolve import DBAdapters\n",
    "from pyevolve import Crossovers\n",
    "from pyevolve import Consts\n",
    "from sys import exit\n",
    "from pyevolve import DBAdapters\n",
    "import sys, random\n",
    "from math import sqrt\n",
    "import geopy.distance\n",
    "%matplotlib inline\n",
    "import matplotlib.pyplot as plt\n",
    "import numpy as np"
   ]
  },
  {
   "cell_type": "markdown",
   "metadata": {},
   "source": [
    "**Nous avons besoin d'une fonction pour calculer la distance entre deux villes sur une sphère.**"
   ]
  },
  {
   "cell_type": "code",
   "execution_count": 2,
   "metadata": {},
   "outputs": [],
   "source": [
    "def distance_between_two_cities(city_1, city_2):\n",
    "\n",
    "    return geopy.distance.vincenty(city_1, city_2).km"
   ]
  },
  {
   "cell_type": "markdown",
   "metadata": {},
   "source": [
    "**Nous avons les latitudes et longitudes de nos 14 villes**"
   ]
  },
  {
   "cell_type": "code",
   "execution_count": 3,
   "metadata": {},
   "outputs": [],
   "source": [
    "LAT = [16.47, 16.47, 20.09, 22.39, 25.23, 22.00, 20.47, 17.20, 16.30, 14.05, 16.53, 21.52, 19.41, 20.09]\n",
    "LON = [96.10, 94.44, 92.54, 93.37, 97.24, 96.05, 97.02, 96.29, 97.38, 98.12, 97.38, 95.59, 97.13, 94.55]"
   ]
  },
  {
   "cell_type": "markdown",
   "metadata": {},
   "source": [
    "**Ensuite, d'une liste de nos villes**"
   ]
  },
  {
   "cell_type": "code",
   "execution_count": 4,
   "metadata": {},
   "outputs": [],
   "source": [
    "cities = []\n",
    "\n",
    "for index in range(len(LAT)):\n",
    "    cities.append((LAT[index], LON[index]))\n",
    "\n",
    "cities_nb = len(cities)"
   ]
  },
  {
   "cell_type": "code",
   "execution_count": 5,
   "metadata": {},
   "outputs": [
    {
     "name": "stdout",
     "output_type": "stream",
     "text": [
      "Il y a 14 points\n"
     ]
    }
   ],
   "source": [
    "print(\"Il y a {} points\".format(cities_nb))"
   ]
  },
  {
   "cell_type": "code",
   "execution_count": 6,
   "metadata": {},
   "outputs": [],
   "source": [
    "map_coords_to_city = {}\n",
    "map_city_to_coords = {}\n",
    "\n",
    "for city, coords in enumerate(cities):\n",
    "    map_coords_to_city[coords] = city\n",
    "    map_city_to_coords[city] = coords"
   ]
  },
  {
   "cell_type": "code",
   "execution_count": 7,
   "metadata": {},
   "outputs": [
    {
     "data": {
      "text/plain": [
       "{(14.05, 98.12): 9,\n",
       " (16.3, 97.38): 8,\n",
       " (16.47, 94.44): 1,\n",
       " (16.47, 96.1): 0,\n",
       " (16.53, 97.38): 10,\n",
       " (17.2, 96.29): 7,\n",
       " (19.41, 97.13): 12,\n",
       " (20.09, 92.54): 2,\n",
       " (20.09, 94.55): 13,\n",
       " (20.47, 97.02): 6,\n",
       " (21.52, 95.59): 11,\n",
       " (22.0, 96.05): 5,\n",
       " (22.39, 93.37): 3,\n",
       " (25.23, 97.24): 4}"
      ]
     },
     "execution_count": 7,
     "metadata": {},
     "output_type": "execute_result"
    }
   ],
   "source": [
    "map_coords_to_city"
   ]
  },
  {
   "cell_type": "code",
   "execution_count": 8,
   "metadata": {},
   "outputs": [
    {
     "data": {
      "text/plain": [
       "{0: (16.47, 96.1),\n",
       " 1: (16.47, 94.44),\n",
       " 2: (20.09, 92.54),\n",
       " 3: (22.39, 93.37),\n",
       " 4: (25.23, 97.24),\n",
       " 5: (22.0, 96.05),\n",
       " 6: (20.47, 97.02),\n",
       " 7: (17.2, 96.29),\n",
       " 8: (16.3, 97.38),\n",
       " 9: (14.05, 98.12),\n",
       " 10: (16.53, 97.38),\n",
       " 11: (21.52, 95.59),\n",
       " 12: (19.41, 97.13),\n",
       " 13: (20.09, 94.55)}"
      ]
     },
     "execution_count": 8,
     "metadata": {},
     "output_type": "execute_result"
    }
   ],
   "source": [
    "map_city_to_coords"
   ]
  },
  {
   "cell_type": "markdown",
   "metadata": {},
   "source": [
    "Nous allons remplir une matrice de toutes les distances"
   ]
  },
  {
   "cell_type": "code",
   "execution_count": 9,
   "metadata": {},
   "outputs": [
    {
     "name": "stderr",
     "output_type": "stream",
     "text": [
      "c:\\users\\vincent guidoux\\anaconda3\\envs\\python27\\lib\\site-packages\\ipykernel_launcher.py:3: DeprecationWarning: Vincenty is deprecated and is going to be removed in geopy 2.0. Use `geopy.distance.geodesic` (or the default `geopy.distance.distance`) instead, which is more accurate and always converges.\n",
      "  This is separate from the ipykernel package so we can avoid doing imports until\n"
     ]
    },
    {
     "data": {
      "text/plain": [
       "array([[          inf,  177.25529289,  549.69797241,  715.23136882,\n",
       "         977.08809767,  612.16906546,  453.27693899,   83.28646194,\n",
       "         138.02637295,  344.64296012,  136.81909176,  561.5687481 ,\n",
       "         343.20248949,  432.88513714],\n",
       "       [ 177.25529289,           inf,  448.20030869,  664.88499417,\n",
       "        1012.59214777,  635.09749238,  519.84490674,  213.07693554,\n",
       "         314.6315004 ,  477.4274839 ,  313.95403982,  571.95104846,\n",
       "         432.52008727,  400.84443405],\n",
       "       [ 549.69797241,  448.20030869,           inf,  268.83362232,\n",
       "         746.37501598,  421.65770688,  469.85601377,  508.76031818,\n",
       "         661.80599804,  893.97228288,  645.71717911,  354.78740387,\n",
       "         486.91929058,  210.21956773],\n",
       "       [ 715.23136882,  664.88499417,  268.83362232,           inf,\n",
       "         504.3761671 ,  279.71214503,  433.99291131,  650.86440952,\n",
       "         794.83657799, 1050.69181769,  773.21585314,  248.7227221 ,\n",
       "         511.69134971,  282.57793114],\n",
       "       [ 977.08809767, 1012.59214777,  746.37501598,  504.3761671 ,\n",
       "                  inf,  377.77511813,  527.61662717,  894.53210934,\n",
       "         988.79818784, 1241.076379  ,  963.34837604,  444.14412752,\n",
       "         644.57895958,  632.73066477],\n",
       "       [ 612.16906546,  635.09749238,  421.65770688,  279.71214503,\n",
       "         377.77511813,           inf,  197.06615365,  531.95496072,\n",
       "         646.26846954,  906.75670678,  621.42279943,   71.33483932,\n",
       "         308.02423959,  262.7242436 ],\n",
       "       [ 453.27693899,  519.84490674,  469.85601377,  433.99291131,\n",
       "         527.61662717,  197.06615365,           inf,  370.04129549,\n",
       "         463.12152799,  720.07227292,  437.75789531,  188.73316387,\n",
       "         117.90943138,  261.42227363],\n",
       "       [  83.28646194,  213.07693554,  508.76031818,  650.86440952,\n",
       "         894.53210934,  531.95496072,  370.04129549,           inf,\n",
       "         153.06009248,  399.99029039,  137.80049583,  483.82882722,\n",
       "         260.23077389,  368.81598997],\n",
       "       [ 138.02637295,  314.6315004 ,  661.80599804,  794.83657799,\n",
       "         988.79818784,  646.26846954,  463.12152799,  153.06009248,\n",
       "                  inf,  261.35361581,   25.45249149,  607.77562732,\n",
       "         345.22965582,  515.319257  ],\n",
       "       [ 344.64296012,  477.4274839 ,  893.97228288, 1050.69181769,\n",
       "        1241.076379  ,  906.75670678,  720.07227292,  399.99029039,\n",
       "         261.35361581,           inf,  285.69206083,  869.12923088,\n",
       "         602.48796725,  768.80620329],\n",
       "       [ 136.81909176,  313.95403982,  645.71717911,  773.21585314,\n",
       "         963.34837604,  621.42279943,  437.75789531,  137.80049583,\n",
       "          25.45249149,  285.69206083,           inf,  583.59205269,\n",
       "         319.85682276,  494.70681624],\n",
       "       [ 561.5687481 ,  571.95104846,  354.78740387,  248.7227221 ,\n",
       "         444.14412752,   71.33483932,  188.73316387,  483.82882722,\n",
       "         607.77562732,  869.12923088,  583.59205269,           inf,\n",
       "         283.51616619,  191.79954509],\n",
       "       [ 343.20248949,  432.52008727,  486.91929058,  511.69134971,\n",
       "         644.57895958,  308.02423959,  117.90943138,  260.23077389,\n",
       "         345.22965582,  602.48796725,  319.85682276,  283.51616619,\n",
       "                  inf,  280.69071413],\n",
       "       [ 432.88513714,  400.84443405,  210.21956773,  282.57793114,\n",
       "         632.73066477,  262.7242436 ,  261.42227363,  368.81598997,\n",
       "         515.319257  ,  768.80620329,  494.70681624,  191.79954509,\n",
       "         280.69071413,           inf]])"
      ]
     },
     "execution_count": 9,
     "metadata": {},
     "output_type": "execute_result"
    }
   ],
   "source": [
    "distances = np.empty((cities_nb,cities_nb),dtype=float)\n",
    "\n",
    "for i in range(cities_nb):\n",
    "    for j in range(cities_nb):\n",
    "        distances[i][j] = distance_between_two_cities(map_city_to_coords[i], map_city_to_coords[j])\n",
    "\n",
    "for i in range(cities_nb):\n",
    "    distances[i][i] = np.Infinity\n",
    "        \n",
    "distances"
   ]
  },
  {
   "cell_type": "code",
   "execution_count": 10,
   "metadata": {},
   "outputs": [],
   "source": [
    "# from mpl_toolkits.basemap import Basemap\n",
    "# import matplotlib.pyplot as plt\n",
    "# import numpy as np\n",
    "\n",
    "# # make sure the value of resolution is a lowercase L,\n",
    "# #  for 'low', not a numeral 1\n",
    "# map = Basemap(projection='merc', lat_0=57, lon_0=-135,\n",
    "#     resolution = 'h', area_thresh = 1000.0,\n",
    "#     llcrnrlon=-136.25, llcrnrlat=56,\n",
    "#     urcrnrlon=-134.25, urcrnrlat=57.75)\n",
    "\n",
    "# map.drawcoastlines()\n",
    "# map.drawcountries()\n",
    "# map.fillcontinents(color='coral')\n",
    "# map.drawmapboundary()\n",
    "\n",
    "# map.drawmeridians(np.arange(0, 360, 30))\n",
    "# map.drawparallels(np.arange(-90, 90, 30))\n",
    "\n",
    "# plt.show()"
   ]
  },
  {
   "cell_type": "code",
   "execution_count": 13,
   "metadata": {},
   "outputs": [],
   "source": [
    "# print(\"Il y a {} arêtes\".format(edges_nb))"
   ]
  },
  {
   "cell_type": "code",
   "execution_count": 14,
   "metadata": {},
   "outputs": [],
   "source": [
    "# ord('A')"
   ]
  },
  {
   "cell_type": "code",
   "execution_count": 16,
   "metadata": {},
   "outputs": [],
   "source": [
    "def G1DListTSPInitializator(genome, **args):\n",
    "    \"\"\" The initializator for the TSP \"\"\"\n",
    "    genome.clearList()\n",
    "    lst = [i for i in xrange(cities_nb)]\n",
    "\n",
    "    for i in xrange(cities_nb):\n",
    "        choice = random.choice(lst)\n",
    "        lst.remove(choice)\n",
    "        genome.append(choice)"
   ]
  },
  {
   "cell_type": "markdown",
   "metadata": {},
   "source": [
    "Pour quelques particularités comme les allèles et les initialisateurs, nous nous sommes inspirés de cela :\n",
    "\n",
    "[Pyevolve v0.6rc1 documentation - Example 12 - The Travelling Salesman Problem](http://pyevolve.sourceforge.net/0_6rc1/examples.html)"
   ]
  },
  {
   "cell_type": "code",
   "execution_count": 17,
   "metadata": {},
   "outputs": [],
   "source": [
    "def fitness(chromosome):\n",
    "#     print(\"CHROMOSOME : \", chromosome)\n",
    "    \n",
    "    \"\"\" Returns the total length of the parcour \"\"\"\n",
    "    total = 0\n",
    "    for i in range(cities_nb):\n",
    "        j = (i+1) % cities_nb # pour faire le tour complet\n",
    "        city_i = chromosome[i]\n",
    "        city_j = chromosome[j]\n",
    "        total += distances[city_i,city_j]\n",
    "    return total"
   ]
  },
  {
   "cell_type": "code",
   "execution_count": null,
   "metadata": {},
   "outputs": [
    {
     "name": "stdout",
     "output_type": "stream",
     "text": [
      "(0.85, 0.01, 50, 80, 3626.8693589056174)\n",
      "(0.85, 0.01, 50, 100, 3596.969519480802)\n",
      "(0.85, 0.01, 50, 120, 3729.3704579559744)\n",
      "(0.85, 0.01, 80, 80, 3520.5506431474437)\n",
      "(0.85, 0.01, 80, 100, 3657.4125429527185)\n",
      "(0.85, 0.01, 80, 120, 3660.766120538501)\n",
      "(0.85, 0.01, 100, 80, 3513.8434213585374)\n",
      "(0.85, 0.01, 100, 100, 3619.4165382891597)\n",
      "(0.85, 0.01, 100, 120, 3528.9544288494153)\n",
      "(0.85, 0.01, 500, 80, 3471.9577640862008)\n",
      "(0.85, 0.01, 500, 100, 3475.060775833824)\n",
      "(0.85, 0.01, 500, 120, 3509.7577197603546)\n",
      "(0.85, 0.02, 50, 80, 3603.342616984714)\n",
      "(0.85, 0.02, 50, 100, 3578.7503471151576)\n",
      "(0.85, 0.02, 50, 120, 3517.049925939738)\n",
      "(0.85, 0.02, 80, 80, 3531.685663419116)\n",
      "(0.85, 0.02, 80, 100, 3442.4790481423756)\n",
      "(0.85, 0.02, 80, 120, 3589.919637276238)\n",
      "(0.85, 0.02, 100, 80, 3465.909813565378)\n",
      "(0.85, 0.02, 100, 100, 3515.5064220198983)\n",
      "(0.85, 0.02, 100, 120, 3479.7441672268897)\n",
      "(0.85, 0.02, 500, 80, 3498.47156251702)\n",
      "(0.85, 0.02, 500, 100, 3398.1671493889)\n",
      "(0.85, 0.02, 500, 120, 3449.4484111270185)\n",
      "(0.85, 0.03, 50, 80, 3544.675591383572)\n",
      "(0.85, 0.03, 50, 100, 3444.9095370927266)\n",
      "(0.85, 0.03, 50, 120, 3459.0277765422557)\n",
      "(0.85, 0.03, 80, 80, 3529.436140697441)\n",
      "(0.85, 0.03, 80, 100, 3538.0085447853344)\n",
      "(0.85, 0.03, 80, 120, 3529.1482497911666)\n",
      "(0.85, 0.03, 100, 80, 3564.1510003214157)\n",
      "(0.85, 0.03, 100, 100, 3434.14951012972)\n",
      "(0.85, 0.03, 100, 120, 3425.1266345680306)\n",
      "(0.85, 0.03, 500, 80, 3421.0683358929628)\n",
      "(0.85, 0.03, 500, 100, 3401.6352443233422)\n",
      "(0.85, 0.03, 500, 120, 3413.027235162395)\n",
      "(0.85, 0.04, 50, 80, 3593.5077722684596)\n",
      "(0.85, 0.04, 50, 100, 3584.833643271178)\n",
      "(0.85, 0.04, 50, 120, 3545.2594361371293)\n",
      "(0.85, 0.04, 80, 80, 3472.273592824684)\n",
      "(0.85, 0.04, 80, 100, 3465.8120781423786)\n",
      "(0.85, 0.04, 80, 120, 3450.3435423326127)\n",
      "(0.85, 0.04, 100, 80, 3499.6676688583298)\n",
      "(0.85, 0.04, 100, 100, 3428.251586576943)\n",
      "(0.85, 0.04, 100, 120, 3469.8252575107413)\n",
      "(0.85, 0.04, 500, 80, 3396.533713187714)\n",
      "(0.85, 0.04, 500, 100, 3372.9879962719074)\n",
      "(0.85, 0.04, 500, 120, 3395.5818395724154)\n",
      "(0.85, 0.05, 50, 80, 3551.7136567582065)\n",
      "(0.85, 0.05, 50, 100, 3457.8278612463664)\n",
      "(0.85, 0.05, 50, 120, 3466.303675572116)\n",
      "(0.85, 0.05, 80, 80, 3468.405124123184)\n",
      "(0.85, 0.05, 80, 100, 3428.9580014018597)\n",
      "(0.85, 0.05, 80, 120, 3437.3146102254223)\n",
      "(0.85, 0.05, 100, 80, 3540.307313035497)\n",
      "(0.85, 0.05, 100, 100, 3433.1249680738338)\n",
      "(0.85, 0.05, 100, 120, 3503.6593975394317)\n",
      "(0.85, 0.05, 500, 80, 3384.577301554678)\n",
      "(0.85, 0.05, 500, 100, 3397.90993853117)\n",
      "(0.85, 0.05, 500, 120, 3392.8480832928085)\n",
      "(0.9, 0.01, 50, 80, 3566.6847115262876)\n",
      "(0.9, 0.01, 50, 100, 3617.4537940985674)\n",
      "(0.9, 0.01, 50, 120, 3609.077485374141)\n",
      "(0.9, 0.01, 80, 80, 3566.185194498551)\n",
      "(0.9, 0.01, 80, 100, 3565.21475610068)\n",
      "(0.9, 0.01, 80, 120, 3493.682687933508)\n",
      "(0.9, 0.01, 100, 80, 3601.496676037654)\n",
      "(0.9, 0.01, 100, 100, 3730.0265176607018)\n",
      "(0.9, 0.01, 100, 120, 3559.0237954265076)\n",
      "(0.9, 0.01, 500, 80, 3498.5786493757173)\n",
      "(0.9, 0.01, 500, 100, 3515.415377696191)\n"
     ]
    }
   ],
   "source": [
    "# Chromosome representation\n",
    "\n",
    "crossoverRate_list = [0.85, 0.9, 0.95]\n",
    "mutationRate_list = [0.01, 0.02, 0.03, 0.04, 0.05]\n",
    "populationSize_list = [50, 80, 100, 500]\n",
    "generation_list = [80, 100, 120]\n",
    "\n",
    "min_somme = np.Infinity\n",
    "min_config = None\n",
    "\n",
    "for h in crossoverRate_list:\n",
    "    for j in mutationRate_list:\n",
    "        for k in populationSize_list:\n",
    "            for l in generation_list:\n",
    "                somme = []\n",
    "                for m in range(20):\n",
    "                \n",
    "                    # set the alleles to the cities numbers\n",
    "                    setOfAlleles = GAllele.GAlleles(homogeneous=True)\n",
    "                    lst = [ i for i in xrange((cities_nb)) ]\n",
    "                    a = GAllele.GAlleleList(lst)\n",
    "                    setOfAlleles.add(a)\n",
    "\n",
    "                    genome = G1DList.G1DList((cities_nb))\n",
    "                    genome.setParams(allele=setOfAlleles)\n",
    "\n",
    "                    genome.evaluator.set(fitness)\n",
    "                    genome.mutator.set(Mutators.G1DListMutatorSwap)\n",
    "                    genome.crossover.set(Crossovers.G1DListCrossoverOX)\n",
    "                    genome.initializator.set(G1DListTSPInitializator)\n",
    "\n",
    "                    # GA initialisation\n",
    "\n",
    "                    ga = GSimpleGA.GSimpleGA(genome)\n",
    "                    ga.setMinimax(Consts.minimaxType[\"minimize\"])\n",
    "                    ga.setCrossoverRate(h)\n",
    "                    ga.setMutationRate(j)\n",
    "                    ga.setPopulationSize(k)\n",
    "\n",
    "                    # Number of generations\n",
    "\n",
    "                    ga.setGenerations(l)\n",
    "\n",
    "                    # In case we want to monitor the evolution process\n",
    "                    # execute the function current_best every generation\n",
    "                    #ga.stepCallback.set(current_best)\n",
    "\n",
    "                    ga.evolve(freq_stats=0)\n",
    "\n",
    "                    somme.append(tour_length(ga.bestIndividual()))\n",
    "                    \n",
    "                current_somme = np.mean(somme)\n",
    "                print(h, j, k, l, current_somme)\n",
    "                if current_somme < min_somme:\n",
    "                    min_somme = current_somme\n",
    "                    min_config = (h, j, k, l)\n"
   ]
  },
  {
   "cell_type": "markdown",
   "metadata": {},
   "source": []
  },
  {
   "cell_type": "code",
   "execution_count": null,
   "metadata": {},
   "outputs": [],
   "source": [
    "# min_somme"
   ]
  },
  {
   "cell_type": "code",
   "execution_count": null,
   "metadata": {},
   "outputs": [],
   "source": [
    "# min_config"
   ]
  },
  {
   "cell_type": "code",
   "execution_count": null,
   "metadata": {},
   "outputs": [],
   "source": [
    "# set the alleles to the cities numbers\n",
    "setOfAlleles = GAllele.GAlleles(homogeneous=True)\n",
    "lst = [ i for i in xrange((cities_nb)) ]\n",
    "a = GAllele.GAlleleList(lst)\n",
    "setOfAlleles.add(a)\n",
    "\n",
    "genome = G1DList.G1DList((cities_nb))\n",
    "genome.setParams(allele=setOfAlleles)\n",
    "\n",
    "genome.evaluator.set(fitness)\n",
    "genome.mutator.set(Mutators.G1DListMutatorSwap)\n",
    "genome.crossover.set(Crossovers.G1DListCrossoverOX)\n",
    "genome.initializator.set(G1DListTSPInitializator)\n",
    "\n",
    "# GA initialisation\n",
    "\n",
    "ga = GSimpleGA.GSimpleGA(genome)\n",
    "ga.setMinimax(Consts.minimaxType[\"minimize\"])\n",
    "ga.setCrossoverRate(0.9)\n",
    "ga.setMutationRate(0.05)\n",
    "ga.setPopulationSize(80)\n",
    "\n",
    "# Number of generations\n",
    "\n",
    "ga.setGenerations(100)\n",
    "\n",
    "sqlite_adapter = DBAdapters.DBSQLite(identify=\"GuidouxHochet_TSV\")\n",
    "ga.setDBAdapter(sqlite_adapter)\n",
    "\n",
    "# In case we want to monitor the evolution process\n",
    "# execute the function current_best every generation\n",
    "#ga.stepCallback.set(current_best)\n",
    "\n",
    "ga.evolve(freq_stats=0)\n",
    "tour_length(ga.bestIndividual())"
   ]
  },
  {
   "cell_type": "code",
   "execution_count": null,
   "metadata": {},
   "outputs": [],
   "source": [
    "sol = ga.bestIndividual()\n",
    "sol_lat = []\n",
    "sol_long = []\n",
    "\n",
    "for i in range(0,len(sol)):\n",
    "    sol_lat.append(map_city_to_coords[sol[i]][0])\n",
    "    sol_long.append(map_city_to_coords[sol[i]][1])\n",
    "    \n",
    "\n",
    "sol_lat.append(map_city_to_coords[sol[0]][0])\n",
    "sol_long.append(map_city_to_coords[sol[0]][1])\n",
    "\n",
    "plt.xlabel(\"Longitudes\")\n",
    "plt.ylabel(\"Latitudes\")\n",
    "\n",
    "plt.plot(sol_long, sol_lat, '-o')\n",
    "plt.show()"
   ]
  },
  {
   "cell_type": "code",
   "execution_count": null,
   "metadata": {},
   "outputs": [],
   "source": [
    "tour_length(ga.bestIndividual())"
   ]
  },
  {
   "cell_type": "code",
   "execution_count": null,
   "metadata": {},
   "outputs": [],
   "source": [
    "ga.bestIndividual()"
   ]
  },
  {
   "cell_type": "code",
   "execution_count": null,
   "metadata": {},
   "outputs": [],
   "source": [
    "%run pyevolve_graph.py -i GuidouxHochet_TSV -8"
   ]
  },
  {
   "cell_type": "code",
   "execution_count": null,
   "metadata": {},
   "outputs": [],
   "source": [
    "%run pyevolve_graph.py -i GuidouxHochet_TSV -1"
   ]
  },
  {
   "cell_type": "code",
   "execution_count": null,
   "metadata": {},
   "outputs": [],
   "source": [
    "# from itertools import permutations \n",
    "  \n",
    "# # Get all permutations of [1, 2, 3] \n",
    "# perm = permutations(range(14)) \n",
    "  \n",
    "# i = 0    \n",
    "# # Print the obtained permutations \n",
    "# for i in list(perm): \n",
    "#     i += 1 \n",
    "    \n",
    "# print(i)"
   ]
  },
  {
   "cell_type": "code",
   "execution_count": null,
   "metadata": {},
   "outputs": [],
   "source": [
    "best_order = [1, 13, 2, 3, 4, 5, 11, 6, 12, 7, 10, 8, 9, 0]"
   ]
  },
  {
   "cell_type": "code",
   "execution_count": null,
   "metadata": {},
   "outputs": [],
   "source": [
    "# import reverse_geocode "
   ]
  },
  {
   "cell_type": "code",
   "execution_count": null,
   "metadata": {},
   "outputs": [],
   "source": [
    "# for i, city in enumerate(best_order):\n",
    "#     coords = map_city_to_coords[city]\n",
    "#     town, code, country = reverse_geocode.search(coords)\n",
    "#     print(\"{} : {} - {}, {}\".format(i, map_city_to_coords[city], town, country))"
   ]
  },
  {
   "cell_type": "code",
   "execution_count": null,
   "metadata": {},
   "outputs": [],
   "source": []
  },
  {
   "cell_type": "code",
   "execution_count": null,
   "metadata": {},
   "outputs": [],
   "source": []
  },
  {
   "cell_type": "code",
   "execution_count": null,
   "metadata": {},
   "outputs": [],
   "source": []
  }
 ],
 "metadata": {
  "kernelspec": {
   "display_name": "python27",
   "language": "python",
   "name": "python27"
  },
  "language_info": {
   "codemirror_mode": {
    "name": "ipython",
    "version": 2
   },
   "file_extension": ".py",
   "mimetype": "text/x-python",
   "name": "python",
   "nbconvert_exporter": "python",
   "pygments_lexer": "ipython2",
   "version": "2.7.16"
  }
 },
 "nbformat": 4,
 "nbformat_minor": 1
}
