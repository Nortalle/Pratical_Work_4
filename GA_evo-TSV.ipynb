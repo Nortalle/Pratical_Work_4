{
 "cells": [
  {
   "cell_type": "code",
   "execution_count": 1,
   "metadata": {},
   "outputs": [],
   "source": [
    "from pyevolve import G1DBinaryString\n",
    "from pyevolve import GSimpleGA\n",
    "from pyevolve import Selectors\n",
    "from pyevolve import Statistics\n",
    "from pyevolve import G1DList\n",
    "from pyevolve import G1DList\n",
    "from pyevolve import GSimpleGA\n",
    "from pyevolve import GAllele\n",
    "from pyevolve import Mutators\n",
    "from pyevolve import Initializators\n",
    "from pyevolve import DBAdapters\n",
    "from pyevolve import Crossovers\n",
    "from pyevolve import Consts\n",
    "import sys, random\n",
    "from math import sqrt\n",
    "import geopy.distance\n",
    "%matplotlib inline\n",
    "import matplotlib.pyplot as plt\n",
    "import numpy as np"
   ]
  },
  {
   "cell_type": "markdown",
   "metadata": {},
   "source": [
    "**Nous avons besoin d'une fonction pour calculer la distance entre deux villes sur une sphère.**"
   ]
  },
  {
   "cell_type": "code",
   "execution_count": 2,
   "metadata": {},
   "outputs": [],
   "source": [
    "def distance_between_two_cities(city_1, city_2):\n",
    "\n",
    "    return geopy.distance.vincenty(city_1, city_2).km"
   ]
  },
  {
   "cell_type": "markdown",
   "metadata": {},
   "source": [
    "**Nous avons les latitudes et longitudes de nos 14 villes**"
   ]
  },
  {
   "cell_type": "code",
   "execution_count": 3,
   "metadata": {},
   "outputs": [],
   "source": [
    "LAT = [16.47, 16.47, 20.09, 22.39, 25.23, 22.00, 20.47, 17.20, 16.30, 14.05, 16.53, 21.52, 19.41, 20.09]\n",
    "LON = [96.10, 94.44, 92.54, 93.37, 97.24, 96.05, 97.02, 96.29, 97.38, 98.12, 97.38, 95.59, 97.13, 94.55]"
   ]
  },
  {
   "cell_type": "markdown",
   "metadata": {},
   "source": [
    "**Ensuite, d'une liste de nos villes**"
   ]
  },
  {
   "cell_type": "code",
   "execution_count": 4,
   "metadata": {},
   "outputs": [],
   "source": [
    "cities = []\n",
    "\n",
    "for index in range(len(LAT)):\n",
    "    cities.append((LAT[index], LON[index]))\n",
    "\n",
    "cities_nb = len(cities)"
   ]
  },
  {
   "cell_type": "code",
   "execution_count": 5,
   "metadata": {},
   "outputs": [
    {
     "name": "stdout",
     "output_type": "stream",
     "text": [
      "Il y a 14 points\n"
     ]
    }
   ],
   "source": [
    "print(\"Il y a {} points\".format(cities_nb))"
   ]
  },
  {
   "cell_type": "code",
   "execution_count": 6,
   "metadata": {},
   "outputs": [],
   "source": [
    "map_coords_to_city = {}\n",
    "map_city_to_coords = {}\n",
    "\n",
    "for city, coords in enumerate(cities):\n",
    "    map_coords_to_city[coords] = city\n",
    "    map_city_to_coords[city] = coords"
   ]
  },
  {
   "cell_type": "code",
   "execution_count": 7,
   "metadata": {},
   "outputs": [
    {
     "data": {
      "text/plain": [
       "{(14.05, 98.12): 9,\n",
       " (16.3, 97.38): 8,\n",
       " (16.47, 94.44): 1,\n",
       " (16.47, 96.1): 0,\n",
       " (16.53, 97.38): 10,\n",
       " (17.2, 96.29): 7,\n",
       " (19.41, 97.13): 12,\n",
       " (20.09, 92.54): 2,\n",
       " (20.09, 94.55): 13,\n",
       " (20.47, 97.02): 6,\n",
       " (21.52, 95.59): 11,\n",
       " (22.0, 96.05): 5,\n",
       " (22.39, 93.37): 3,\n",
       " (25.23, 97.24): 4}"
      ]
     },
     "execution_count": 7,
     "metadata": {},
     "output_type": "execute_result"
    }
   ],
   "source": [
    "map_coords_to_city"
   ]
  },
  {
   "cell_type": "code",
   "execution_count": 8,
   "metadata": {},
   "outputs": [
    {
     "data": {
      "text/plain": [
       "{0: (16.47, 96.1),\n",
       " 1: (16.47, 94.44),\n",
       " 2: (20.09, 92.54),\n",
       " 3: (22.39, 93.37),\n",
       " 4: (25.23, 97.24),\n",
       " 5: (22.0, 96.05),\n",
       " 6: (20.47, 97.02),\n",
       " 7: (17.2, 96.29),\n",
       " 8: (16.3, 97.38),\n",
       " 9: (14.05, 98.12),\n",
       " 10: (16.53, 97.38),\n",
       " 11: (21.52, 95.59),\n",
       " 12: (19.41, 97.13),\n",
       " 13: (20.09, 94.55)}"
      ]
     },
     "execution_count": 8,
     "metadata": {},
     "output_type": "execute_result"
    }
   ],
   "source": [
    "map_city_to_coords"
   ]
  },
  {
   "cell_type": "markdown",
   "metadata": {},
   "source": [
    "Nous allons remplir une matrice de toutes les distances"
   ]
  },
  {
   "cell_type": "code",
   "execution_count": 9,
   "metadata": {},
   "outputs": [
    {
     "name": "stderr",
     "output_type": "stream",
     "text": [
      "c:\\users\\vincent guidoux\\anaconda3\\envs\\python27\\lib\\site-packages\\ipykernel_launcher.py:3: DeprecationWarning: Vincenty is deprecated and is going to be removed in geopy 2.0. Use `geopy.distance.geodesic` (or the default `geopy.distance.distance`) instead, which is more accurate and always converges.\n",
      "  This is separate from the ipykernel package so we can avoid doing imports until\n"
     ]
    },
    {
     "data": {
      "text/plain": [
       "array([[          inf,  177.25529289,  549.69797241,  715.23136882,\n",
       "         977.08809767,  612.16906546,  453.27693899,   83.28646194,\n",
       "         138.02637295,  344.64296012,  136.81909176,  561.5687481 ,\n",
       "         343.20248949,  432.88513714],\n",
       "       [ 177.25529289,           inf,  448.20030869,  664.88499417,\n",
       "        1012.59214777,  635.09749238,  519.84490674,  213.07693554,\n",
       "         314.6315004 ,  477.4274839 ,  313.95403982,  571.95104846,\n",
       "         432.52008727,  400.84443405],\n",
       "       [ 549.69797241,  448.20030869,           inf,  268.83362232,\n",
       "         746.37501598,  421.65770688,  469.85601377,  508.76031818,\n",
       "         661.80599804,  893.97228288,  645.71717911,  354.78740387,\n",
       "         486.91929058,  210.21956773],\n",
       "       [ 715.23136882,  664.88499417,  268.83362232,           inf,\n",
       "         504.3761671 ,  279.71214503,  433.99291131,  650.86440952,\n",
       "         794.83657799, 1050.69181769,  773.21585314,  248.7227221 ,\n",
       "         511.69134971,  282.57793114],\n",
       "       [ 977.08809767, 1012.59214777,  746.37501598,  504.3761671 ,\n",
       "                  inf,  377.77511813,  527.61662717,  894.53210934,\n",
       "         988.79818784, 1241.076379  ,  963.34837604,  444.14412752,\n",
       "         644.57895958,  632.73066477],\n",
       "       [ 612.16906546,  635.09749238,  421.65770688,  279.71214503,\n",
       "         377.77511813,           inf,  197.06615365,  531.95496072,\n",
       "         646.26846954,  906.75670678,  621.42279943,   71.33483932,\n",
       "         308.02423959,  262.7242436 ],\n",
       "       [ 453.27693899,  519.84490674,  469.85601377,  433.99291131,\n",
       "         527.61662717,  197.06615365,           inf,  370.04129549,\n",
       "         463.12152799,  720.07227292,  437.75789531,  188.73316387,\n",
       "         117.90943138,  261.42227363],\n",
       "       [  83.28646194,  213.07693554,  508.76031818,  650.86440952,\n",
       "         894.53210934,  531.95496072,  370.04129549,           inf,\n",
       "         153.06009248,  399.99029039,  137.80049583,  483.82882722,\n",
       "         260.23077389,  368.81598997],\n",
       "       [ 138.02637295,  314.6315004 ,  661.80599804,  794.83657799,\n",
       "         988.79818784,  646.26846954,  463.12152799,  153.06009248,\n",
       "                  inf,  261.35361581,   25.45249149,  607.77562732,\n",
       "         345.22965582,  515.319257  ],\n",
       "       [ 344.64296012,  477.4274839 ,  893.97228288, 1050.69181769,\n",
       "        1241.076379  ,  906.75670678,  720.07227292,  399.99029039,\n",
       "         261.35361581,           inf,  285.69206083,  869.12923088,\n",
       "         602.48796725,  768.80620329],\n",
       "       [ 136.81909176,  313.95403982,  645.71717911,  773.21585314,\n",
       "         963.34837604,  621.42279943,  437.75789531,  137.80049583,\n",
       "          25.45249149,  285.69206083,           inf,  583.59205269,\n",
       "         319.85682276,  494.70681624],\n",
       "       [ 561.5687481 ,  571.95104846,  354.78740387,  248.7227221 ,\n",
       "         444.14412752,   71.33483932,  188.73316387,  483.82882722,\n",
       "         607.77562732,  869.12923088,  583.59205269,           inf,\n",
       "         283.51616619,  191.79954509],\n",
       "       [ 343.20248949,  432.52008727,  486.91929058,  511.69134971,\n",
       "         644.57895958,  308.02423959,  117.90943138,  260.23077389,\n",
       "         345.22965582,  602.48796725,  319.85682276,  283.51616619,\n",
       "                  inf,  280.69071413],\n",
       "       [ 432.88513714,  400.84443405,  210.21956773,  282.57793114,\n",
       "         632.73066477,  262.7242436 ,  261.42227363,  368.81598997,\n",
       "         515.319257  ,  768.80620329,  494.70681624,  191.79954509,\n",
       "         280.69071413,           inf]])"
      ]
     },
     "execution_count": 9,
     "metadata": {},
     "output_type": "execute_result"
    }
   ],
   "source": [
    "distances = np.empty((cities_nb,cities_nb),dtype=float)\n",
    "\n",
    "for i in range(cities_nb):\n",
    "    for j in range(cities_nb):\n",
    "        distances[i][j] = distance_between_two_cities(map_city_to_coords[i], map_city_to_coords[j])\n",
    "\n",
    "for i in range(cities_nb):\n",
    "    distances[i][i] = np.Infinity\n",
    "        \n",
    "distances"
   ]
  },
  {
   "cell_type": "code",
   "execution_count": 10,
   "metadata": {},
   "outputs": [],
   "source": [
    "# from mpl_toolkits.basemap import Basemap\n",
    "# import matplotlib.pyplot as plt\n",
    "# import numpy as np\n",
    "\n",
    "# # make sure the value of resolution is a lowercase L,\n",
    "# #  for 'low', not a numeral 1\n",
    "# map = Basemap(projection='merc', lat_0=57, lon_0=-135,\n",
    "#     resolution = 'h', area_thresh = 1000.0,\n",
    "#     llcrnrlon=-136.25, llcrnrlat=56,\n",
    "#     urcrnrlon=-134.25, urcrnrlat=57.75)\n",
    "\n",
    "# map.drawcoastlines()\n",
    "# map.drawcountries()\n",
    "# map.fillcontinents(color='coral')\n",
    "# map.drawmapboundary()\n",
    "\n",
    "# map.drawmeridians(np.arange(0, 360, 30))\n",
    "# map.drawparallels(np.arange(-90, 90, 30))\n",
    "\n",
    "# plt.show()"
   ]
  },
  {
   "cell_type": "markdown",
   "metadata": {},
   "source": [
    "**Nous allons dessiner un graphe complet, il y a 14 villes, donc il y aura `14*(14-1)/2` donc 91 arêtes**"
   ]
  },
  {
   "cell_type": "code",
   "execution_count": 11,
   "metadata": {},
   "outputs": [],
   "source": [
    "# edges = {}\n",
    "\n",
    "# k = 0\n",
    "\n",
    "# for i, point_j in enumerate(cities):\n",
    "#     for j in range(i, len(cities)):\n",
    "#         if i != j:\n",
    "#             edges[k] = (map_coords_to_city[cities[i]], map_coords_to_city[cities[j]])\n",
    "#             k += 1\n",
    "# edges_nb = len(edges)"
   ]
  },
  {
   "cell_type": "code",
   "execution_count": 12,
   "metadata": {},
   "outputs": [],
   "source": [
    "# edges"
   ]
  },
  {
   "cell_type": "code",
   "execution_count": 13,
   "metadata": {},
   "outputs": [],
   "source": [
    "# print(\"Il y a {} arêtes\".format(edges_nb))"
   ]
  },
  {
   "cell_type": "code",
   "execution_count": 14,
   "metadata": {},
   "outputs": [],
   "source": [
    "# ord('A')"
   ]
  },
  {
   "cell_type": "code",
   "execution_count": 15,
   "metadata": {},
   "outputs": [],
   "source": [
    "def tour_length(tour):\n",
    "    \"\"\" Returns the total length of the tour \"\"\"\n",
    "    total = 0\n",
    "    for i in range(cities_nb):\n",
    "        j = (i+1) % cities_nb\n",
    "        city_i = tour[i]\n",
    "        city_j = tour[j]\n",
    "        total += distances[city_i,city_j]\n",
    "    return total"
   ]
  },
  {
   "cell_type": "code",
   "execution_count": 16,
   "metadata": {},
   "outputs": [],
   "source": [
    "def G1DListTSPInitializator(genome, **args):\n",
    "    \"\"\" The initializator for the TSP \"\"\"\n",
    "    genome.clearList()\n",
    "    lst = [i for i in xrange(cities_nb)]\n",
    "\n",
    "    for i in xrange(cities_nb):\n",
    "        choice = random.choice(lst)\n",
    "        lst.remove(choice)\n",
    "        genome.append(choice)"
   ]
  },
  {
   "cell_type": "code",
   "execution_count": null,
   "metadata": {},
   "outputs": [],
   "source": []
  },
  {
   "cell_type": "code",
   "execution_count": 17,
   "metadata": {},
   "outputs": [],
   "source": [
    "def fitness(chromosome):\n",
    "#     print(\"CHROMOSOME : \", chromosome)\n",
    "    \n",
    "    \n",
    "    return tour_length(chromosome)"
   ]
  },
  {
   "cell_type": "code",
   "execution_count": 18,
   "metadata": {},
   "outputs": [],
   "source": [
    "# # Chromosome representation\n",
    "\n",
    "# crossoverRate_list = [0.85, 0.9, 0.95]\n",
    "# mutationRate_list = [0.01, 0.02, 0.03]\n",
    "# populationSize_list = [50, 80, 100]\n",
    "# generation_list = [750, 1000, 1250]\n",
    "\n",
    "# min_somme = np.Infinity\n",
    "# min_config = None\n",
    "\n",
    "# for h in crossoverRate_list:\n",
    "#     for j in mutationRate_list:\n",
    "#         for k in populationSize_list:\n",
    "#             for l in generation_list:\n",
    "#                 somme = []\n",
    "#                 for m in range(5):\n",
    "                \n",
    "#                     # set the alleles to the cities numbers\n",
    "#                     setOfAlleles = GAllele.GAlleles(homogeneous=True)\n",
    "#                     lst = [ i for i in xrange((cities_nb)) ]\n",
    "#                     a = GAllele.GAlleleList(lst)\n",
    "#                     setOfAlleles.add(a)\n",
    "\n",
    "#                     genome = G1DList.G1DList((cities_nb))\n",
    "#                     genome.setParams(allele=setOfAlleles)\n",
    "\n",
    "#                     genome.evaluator.set(fitness)\n",
    "#                     genome.mutator.set(Mutators.G1DListMutatorSwap)\n",
    "#                     genome.crossover.set(Crossovers.G1DListCrossoverOX)\n",
    "#                     genome.initializator.set(G1DListTSPInitializator)\n",
    "\n",
    "#                     # GA initialisation\n",
    "\n",
    "#                     ga = GSimpleGA.GSimpleGA(genome)\n",
    "#                     ga.setMinimax(Consts.minimaxType[\"minimize\"])\n",
    "#                     ga.setCrossoverRate(h)\n",
    "#                     ga.setMutationRate(j)\n",
    "#                     ga.setPopulationSize(k)\n",
    "\n",
    "#                     # Number of generations\n",
    "\n",
    "#                     ga.setGenerations(l)\n",
    "\n",
    "#                     # In case we want to monitor the evolution process\n",
    "#                     # execute the function current_best every generation\n",
    "#                     #ga.stepCallback.set(current_best)\n",
    "\n",
    "#                     ga.evolve(freq_stats=0)\n",
    "\n",
    "#                     somme.append(tour_length(ga.bestIndividual()))\n",
    "                    \n",
    "#                 current_somme = np.mean(somme)\n",
    "#                 print(h, j, k, l, current_somme)\n",
    "#                 if current_somme < min_somme:\n",
    "#                     min_somme = current_somme\n",
    "#                     min_config = (h, j, k, l)\n"
   ]
  },
  {
   "cell_type": "markdown",
   "metadata": {},
   "source": [
    "+ (0.85, 0.01, 50, 750, 3466.888818560845)\n",
    "+ (0.85, 0.01, 50, 1000, 3692.538991053122)\n",
    "+ (0.85, 0.01, 50, 1250, 3595.3925932539087)\n",
    "+ (0.85, 0.01, 80, 750, 3727.4784119287565)\n",
    "+ (0.85, 0.01, 80, 1000, 3660.4368763889665)\n",
    "+ (0.85, 0.01, 80, 1250, 3523.069986075368)\n",
    "+ (0.85, 0.01, 100, 750, 3474.109100734233)\n",
    "+ (0.85, 0.01, 100, 1000, 3469.043326299269)\n",
    "+ (0.85, 0.01, 100, 1250, 3398.2955002753906)\n",
    "+ (0.85, 0.02, 50, 750, 3557.682623278745)\n",
    "+ (0.85, 0.02, 50, 1000, 3361.895689432781)\n",
    "+ (0.85,+  0.02, 50, 1250, 3411.9721532156245)\n",
    "+ (0.85, 0.02, 80, 750, 3723.508139196282)\n",
    "+ (0.85, 0.02, 80, 1000, 3440.4063056965874)\n",
    "+ (0.85, 0.02, 80, 1250, 3382.8405555604463)\n",
    "+ (0.85, 0.02, 100, 750, 3533.7662063822127)\n",
    "+ (0.85, 0.02, 100, 1000, 3424.1104140404814)\n",
    "+ (0.85, 0.02, 100, 1250, 3431.59970039378)\n",
    "+ (0.85, 0.03, 50, 750, 3378.269152487809)\n",
    "+ (0.85, 0.03, 50, 1000, 3370.0824209602956)\n",
    "+ (0.85, 0.03, 50, 1250, 3470.840347858187)\n",
    "+ (0.85, 0.03, 80, 750, 3425.076657704438)\n",
    "+ (0.85, 0.03, 80, 1000, 3419.5390109678456)\n",
    "+ (0.85, 0.03, 80, 1250, 3439.7864319212945)\n",
    "+ (0.85, 0.03, 100, 750, 3403.9101853417005)\n",
    "+ (0.85, 0.03, 100, 1000, 3375.273697808225)\n",
    "+ (0.85, 0.03, 100, 1250, 3370.7022947355886)\n",
    "+ (0.9, 0.01, 50, 750, 3488.850299963547)\n",
    "+ (0.9, 0.01, 50, 1000, 3472.282430461287)\n",
    "+ (0.9, 0.01, 50, 1250, 3403.7854216881105)\n",
    "+ (0.9, 0.01, 80, 750, 3418.12967372751)\n",
    "+ (0.9, 0.01, 80, 1000, 3500.166210696202)\n",
    "+ (0.9, 0.01, 80, 1250, 3445.1024724228146)\n",
    "+ (0.9, 0.01, 100, 750, 3367.0869662807104)\n",
    "+ (0.9, 0.01, 100, 1000, 3553.4272570729286)\n",
    "+ (0.9, 0.01, 100, 1250, 3447.353289673515)\n",
    "+ (0.9, 0.02, 50, 750, 3419.461439568923)\n",
    "+ (0.9, 0.02, 50, 1000, 3371.3221685108815)\n",
    "+ (0.9, 0.02, 50, 1250, 3478.0372154396346)\n",
    "+ (0.9, 0.02, 80, 750, 3390.407413312666)\n",
    "+ (0.9, 0.02, 80, 1000, 3411.3522794403316)\n",
    "+ (0.9, 0.02, 80, 1250, 3447.353289673515)\n",
    "+ (0.9, 0.02, 100, 750, 3442.4832420360895)\n",
    "+ (0.9, 0.02, 100, 1000, 3380.589738309745)\n",
    "+ (0.9, 0.02, 100, 1250, 3354.948705455853)\n",
    "+ (0.9, 0.03, 50, 750, 3475.8650135534017)\n",
    "+ (0.9, 0.03, 50, 1000, 3362.515563208074)\n",
    "+ (0.9, 0.03, 50, 1250, 3398.5941448401804)\n",
    "+ (0.9, 0.03, 80, 750, 3450.5929269047388)\n",
    "+ (0.9, 0.03, 80, 1000, 3379.508900038396)\n",
    "+ (0.9, 0.03, 80, 1250, 3370.702294735588)\n",
    "+ (0.9, 0.03, 100, 750, 3362.515563208074)\n",
    "+ (0.9, 0.03, 100, 1000, 3382.2206817851525)\n",
    "+ (0.9, 0.03, 100, 1250, 3370.082420960295)\n",
    "+ (0.95, 0.01, 50, 750, 3533.53717295576)\n",
    "+ (0.95, 0.01, 50, 1000, 3584.7398319680274)\n",
    "+ (0.95, 0.01, 50, 1250, 3354.9487054558535)\n",
    "+ (0.95, 0.01, 80, 750, 3583.7346832881403)\n",
    "+ (0.95, 0.01, 80, 1000, 3440.309996184311)\n",
    "+ (0.95, 0.01, 80, 1250, 3540.55262146569)\n",
    "+ (0.95, 0.01, 100, 750, 3583.064661632583)\n",
    "+ (0.95, 0.01, 100, 1000, 3446.733415898222)\n",
    "+ (0.95, 0.01, 100, 1250, 3424.1104140404823)\n",
    "(0.95, 0.02, 50, 750, 3468.3228312942674)\n",
    "(0.95, 0.02, 50, 1000, 3439.166558146001)\n",
    "(0.95, 0.02, 50, 1250, 3417.5097999522172)\n",
    "(0.95, 0.02, 80, 750, 3432.219574169074)\n",
    "(0.95, 0.02, 80, 1000, 3395.598690160596)\n",
    "(0.95, 0.02, 80, 1250, 3418.9191371925517)\n",
    "(0.95, 0.02, 100, 750, 3354.32883168056)\n",
    "(0.95, 0.02, 100, 1000, 3402.5456741375237)\n",
    "(0.95, 0.02, 100, 1250, 3378.269152487809)\n",
    "(0.95, 0.03, 50, 750, 3415.364868383664)\n",
    "(0.95, 0.03, 50, 1000, 3378.889026263103)\n",
    "(0.95, 0.03, 50, 1250, 3370.082420960295)\n",
    "(0.95, 0.03, 80, 750, 3452.622137920368)\n",
    "(0.95, 0.03, 80, 1000, 3468.29815580118)\n",
    "(0.95, 0.03, 80, 1250, 3398.5941448401804)\n",
    "(0.95, 0.03, 100, 750, 3440.4063056965883)\n",
    "(0.95, 0.03, 100, 1000, 3378.889026263102)\n",
    "(0.95, 0.03, 100, 1250, 3403.1655479128167)"
   ]
  },
  {
   "cell_type": "code",
   "execution_count": 19,
   "metadata": {},
   "outputs": [],
   "source": [
    "# min_somme"
   ]
  },
  {
   "cell_type": "code",
   "execution_count": 20,
   "metadata": {},
   "outputs": [],
   "source": [
    "# min_config"
   ]
  },
  {
   "cell_type": "code",
   "execution_count": 21,
   "metadata": {},
   "outputs": [
    {
     "data": {
      "text/plain": [
       "3346.761973928339"
      ]
     },
     "execution_count": 21,
     "metadata": {},
     "output_type": "execute_result"
    }
   ],
   "source": [
    "# set the alleles to the cities numbers\n",
    "setOfAlleles = GAllele.GAlleles(homogeneous=True)\n",
    "lst = [ i for i in xrange((cities_nb)) ]\n",
    "a = GAllele.GAlleleList(lst)\n",
    "setOfAlleles.add(a)\n",
    "\n",
    "genome = G1DList.G1DList((cities_nb))\n",
    "genome.setParams(allele=setOfAlleles)\n",
    "\n",
    "genome.evaluator.set(fitness)\n",
    "genome.mutator.set(Mutators.G1DListMutatorSwap)\n",
    "genome.crossover.set(Crossovers.G1DListCrossoverOX)\n",
    "genome.initializator.set(G1DListTSPInitializator)\n",
    "\n",
    "# GA initialisation\n",
    "\n",
    "ga = GSimpleGA.GSimpleGA(genome)\n",
    "ga.setMinimax(Consts.minimaxType[\"minimize\"])\n",
    "ga.setCrossoverRate(0.9)\n",
    "ga.setMutationRate(0.02)\n",
    "ga.setPopulationSize(100)\n",
    "\n",
    "# Number of generations\n",
    "\n",
    "ga.setGenerations(1250)\n",
    "\n",
    "# In case we want to monitor the evolution process\n",
    "# execute the function current_best every generation\n",
    "#ga.stepCallback.set(current_best)\n",
    "\n",
    "ga.evolve(freq_stats=0)\n",
    "tour_length(ga.bestIndividual())"
   ]
  },
  {
   "cell_type": "code",
   "execution_count": null,
   "metadata": {},
   "outputs": [],
   "source": [
    "sol = ga.bestIndividual()\n",
    "sol_lat = []\n",
    "sol_long = []\n",
    "\n",
    "for i in range(0,len(sol)):\n",
    "    sol_lat.append(map_city_to_coords[sol[i]][0])\n",
    "    sol_long.append(map_city_to_coords[sol[i]][1])\n",
    "    \n",
    "\n",
    "sol_lat.append(map_city_to_coords[sol[0]][0])\n",
    "sol_long.append(map_city_to_coords[sol[0]][1])\n",
    "\n",
    "plt.xlabel(\"Longitudes\")\n",
    "plt.ylabel(\"Latitudes\")\n",
    "\n",
    "plt.plot(sol_long, sol_lat, '-o')\n",
    "plt.show()"
   ]
  },
  {
   "cell_type": "code",
   "execution_count": 23,
   "metadata": {},
   "outputs": [
    {
     "data": {
      "text/plain": [
       "3346.761973928339"
      ]
     },
     "execution_count": 23,
     "metadata": {},
     "output_type": "execute_result"
    }
   ],
   "source": [
    "tour_length(ga.bestIndividual())"
   ]
  },
  {
   "cell_type": "code",
   "execution_count": null,
   "metadata": {},
   "outputs": [],
   "source": []
  },
  {
   "cell_type": "code",
   "execution_count": null,
   "metadata": {},
   "outputs": [],
   "source": []
  },
  {
   "cell_type": "code",
   "execution_count": null,
   "metadata": {},
   "outputs": [],
   "source": [
    "from itertools import permutations \n",
    "  \n",
    "# Get all permutations of [1, 2, 3] \n",
    "perm = permutations(range(14)) \n",
    "  \n",
    "i = 0    \n",
    "# Print the obtained permutations \n",
    "for i in list(perm): \n",
    "    i += 1 \n",
    "    \n",
    "print(i)"
   ]
  },
  {
   "cell_type": "code",
   "execution_count": null,
   "metadata": {},
   "outputs": [],
   "source": []
  }
 ],
 "metadata": {
  "kernelspec": {
   "display_name": "Python 2",
   "language": "python",
   "name": "python2"
  },
  "language_info": {
   "codemirror_mode": {
    "name": "ipython",
    "version": 2
   },
   "file_extension": ".py",
   "mimetype": "text/x-python",
   "name": "python",
   "nbconvert_exporter": "python",
   "pygments_lexer": "ipython2",
   "version": "2.7.16"
  }
 },
 "nbformat": 4,
 "nbformat_minor": 1
}
